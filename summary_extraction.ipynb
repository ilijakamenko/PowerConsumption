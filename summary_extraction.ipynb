{
 "cells": [
  {
   "cell_type": "code",
   "execution_count": 76,
   "id": "5f73a38f-ba23-4e3c-9ff9-d64195e79da1",
   "metadata": {},
   "outputs": [],
   "source": [
    "import pandas as pd\n",
    "from imdb import IMDBDataset\n",
    "import seaborn as sns\n",
    "import numpy as np"
   ]
  },
  {
   "cell_type": "markdown",
   "id": "c3eeca5e-a0c5-409c-9cca-e62d583d5f24",
   "metadata": {},
   "source": [
    "# Points of interest\n",
    "\n",
    "- energy / synapse (fJ) (energy / param)\n",
    "- energy / input vector (μJ)\n",
    "- Power (W)\n",
    "- Throughput (vectors / s)\n",
    "- Power / synapse (mW) (power / param)\n",
    "- Synapses (params)\n",
    "- Dataset size\n",
    "- Training time (s)\n",
    "- Epochs"
   ]
  },
  {
   "cell_type": "code",
   "execution_count": 48,
   "id": "5fb03089-3a64-46fd-a1f4-7521d832d39d",
   "metadata": {},
   "outputs": [
    {
     "data": {
      "text/plain": [
       "25000"
      ]
     },
     "execution_count": 48,
     "metadata": {},
     "output_type": "execute_result"
    }
   ],
   "source": [
    "imdb_dataset = IMDBDataset()\n",
    "imdb_size = len(imdb_dataset)\n",
    "imdb_size"
   ]
  },
  {
   "cell_type": "code",
   "execution_count": 88,
   "id": "2f77a962-a31d-4e30-a15c-68507c9516f1",
   "metadata": {},
   "outputs": [],
   "source": [
    "mnist_size = 60000"
   ]
  },
  {
   "cell_type": "code",
   "execution_count": 77,
   "id": "5c9b41ea-1ca9-42ea-a682-97bcd0036e7c",
   "metadata": {},
   "outputs": [],
   "source": [
    "def load_benchmark_df(filename):\n",
    "    df = pd.read_csv(filename)\n",
    "    df = df.sort_values(by=[\"run\", \"epoch\", \"elapsed_time\"])\n",
    "    df[\"iteration_time\"] = (\n",
    "        df.groupby([\"run\", \"epoch\"])[\"elapsed_time\"].diff().fillna(0)\n",
    "    )\n",
    "    df[\"energy_J\"] = df[\"power_consumption\"] * df[\"iteration_time\"]\n",
    "    return df\n",
    "\n",
    "def get_summary_df(df, dataset_size):\n",
    "    results = []\n",
    "    for (run,), run_df in df.groupby([\"run\"]):\n",
    "        epoch_group = run_df.groupby([\"epoch\"])\n",
    "        epoch_mean_power = epoch_group[\"power_consumption\"].mean()\n",
    "        mean_power = epoch_mean_power.mean()\n",
    "        train_duration = epoch_group[\"elapsed_time\"].max().sum()\n",
    "        epochs = len(epoch_group)\n",
    "        params = run_df.total_params.iloc[0]\n",
    "        power_per_param = mean_power * 1000 / param_count\n",
    "        run_energy = epoch_group[\"energy_J\"].sum().sum()\n",
    "        iterations = len(run_df)\n",
    "        results.append({\n",
    "            \"run\": run,\n",
    "            \"mean_power_W\": mean_power,\n",
    "            \"train_duration_s\": train_duration,\n",
    "            \"epochs\": epochs,\n",
    "            \"params\": params,\n",
    "            \"power_per_param_mW\": power_per_param,\n",
    "            \"energy_J\": run_energy,\n",
    "            \"iterations\": iterations,\n",
    "        })\n",
    "        \n",
    "    summary = pd.DataFrame(results)\n",
    "\n",
    "    summary[\"energy_per_param_fJ\"] = summary[\"energy_J\"] * 1e15 / summary[\"iterations\"]\n",
    "    summary[\"dataset_size\"] = dataset_size\n",
    "    summary[\"throughput\"] = dataset_size / summary[\"train_duration_s\"]\n",
    "    summary[\"energy_per_vector_mJ\"] = summary[\"power_per_param_mW\"] / summary[\"throughput\"] * 1000\n",
    "\n",
    "    return pd.DataFrame([summary.drop(columns=[\"run\"]).mean()])"
   ]
  },
  {
   "cell_type": "markdown",
   "id": "1f77916b-cc31-4796-8ef7-e9618bfae338",
   "metadata": {},
   "source": [
    "# Summaries"
   ]
  },
  {
   "cell_type": "code",
   "execution_count": 89,
   "id": "bc86f447-472e-4843-b5aa-7ccec34cfe22",
   "metadata": {},
   "outputs": [
    {
     "data": {
      "text/html": [
       "<div>\n",
       "<style scoped>\n",
       "    .dataframe tbody tr th:only-of-type {\n",
       "        vertical-align: middle;\n",
       "    }\n",
       "\n",
       "    .dataframe tbody tr th {\n",
       "        vertical-align: top;\n",
       "    }\n",
       "\n",
       "    .dataframe thead th {\n",
       "        text-align: right;\n",
       "    }\n",
       "</style>\n",
       "<table border=\"1\" class=\"dataframe\">\n",
       "  <thead>\n",
       "    <tr style=\"text-align: right;\">\n",
       "      <th></th>\n",
       "      <th>mean_power_W</th>\n",
       "      <th>train_duration_s</th>\n",
       "      <th>epochs</th>\n",
       "      <th>params</th>\n",
       "      <th>power_per_param_mW</th>\n",
       "      <th>energy_J</th>\n",
       "      <th>iterations</th>\n",
       "      <th>energy_per_param_fJ</th>\n",
       "      <th>dataset_size</th>\n",
       "      <th>throughput</th>\n",
       "      <th>energy_per_vector_mJ</th>\n",
       "    </tr>\n",
       "  </thead>\n",
       "  <tbody>\n",
       "    <tr>\n",
       "      <th>0</th>\n",
       "      <td>37.055828</td>\n",
       "      <td>107.596667</td>\n",
       "      <td>5.0</td>\n",
       "      <td>4828930.0</td>\n",
       "      <td>0.008882</td>\n",
       "      <td>3974.6645</td>\n",
       "      <td>1955.0</td>\n",
       "      <td>2.033076e+15</td>\n",
       "      <td>25000.0</td>\n",
       "      <td>232.354267</td>\n",
       "      <td>0.038212</td>\n",
       "    </tr>\n",
       "  </tbody>\n",
       "</table>\n",
       "</div>"
      ],
      "text/plain": [
       "   mean_power_W  train_duration_s  epochs     params  power_per_param_mW  \\\n",
       "0     37.055828        107.596667     5.0  4828930.0            0.008882   \n",
       "\n",
       "    energy_J  iterations  energy_per_param_fJ  dataset_size  throughput  \\\n",
       "0  3974.6645      1955.0         2.033076e+15       25000.0  232.354267   \n",
       "\n",
       "   energy_per_vector_mJ  \n",
       "0              0.038212  "
      ]
     },
     "execution_count": 89,
     "metadata": {},
     "output_type": "execute_result"
    }
   ],
   "source": [
    "filename = \"benchmarks/lstm_benchmark_cuda.csv\"\n",
    "df = load_benchmark_df(filename)\n",
    "lstm_df = get_summary_df(df, imdb_size)\n",
    "lstm_df"
   ]
  },
  {
   "cell_type": "code",
   "execution_count": 90,
   "id": "61774d46-80b7-47c6-a71c-1b329237ab34",
   "metadata": {},
   "outputs": [
    {
     "data": {
      "text/html": [
       "<div>\n",
       "<style scoped>\n",
       "    .dataframe tbody tr th:only-of-type {\n",
       "        vertical-align: middle;\n",
       "    }\n",
       "\n",
       "    .dataframe tbody tr th {\n",
       "        vertical-align: top;\n",
       "    }\n",
       "\n",
       "    .dataframe thead th {\n",
       "        text-align: right;\n",
       "    }\n",
       "</style>\n",
       "<table border=\"1\" class=\"dataframe\">\n",
       "  <thead>\n",
       "    <tr style=\"text-align: right;\">\n",
       "      <th></th>\n",
       "      <th>mean_power_W</th>\n",
       "      <th>train_duration_s</th>\n",
       "      <th>epochs</th>\n",
       "      <th>params</th>\n",
       "      <th>power_per_param_mW</th>\n",
       "      <th>energy_J</th>\n",
       "      <th>iterations</th>\n",
       "      <th>energy_per_param_fJ</th>\n",
       "      <th>dataset_size</th>\n",
       "      <th>throughput</th>\n",
       "      <th>energy_per_vector_mJ</th>\n",
       "    </tr>\n",
       "  </thead>\n",
       "  <tbody>\n",
       "    <tr>\n",
       "      <th>0</th>\n",
       "      <td>42.057901</td>\n",
       "      <td>90.03</td>\n",
       "      <td>5.0</td>\n",
       "      <td>4172034.0</td>\n",
       "      <td>0.010081</td>\n",
       "      <td>3779.958967</td>\n",
       "      <td>1955.0</td>\n",
       "      <td>1.933483e+15</td>\n",
       "      <td>25000.0</td>\n",
       "      <td>277.691844</td>\n",
       "      <td>0.036303</td>\n",
       "    </tr>\n",
       "  </tbody>\n",
       "</table>\n",
       "</div>"
      ],
      "text/plain": [
       "   mean_power_W  train_duration_s  epochs     params  power_per_param_mW  \\\n",
       "0     42.057901             90.03     5.0  4172034.0            0.010081   \n",
       "\n",
       "      energy_J  iterations  energy_per_param_fJ  dataset_size  throughput  \\\n",
       "0  3779.958967      1955.0         1.933483e+15       25000.0  277.691844   \n",
       "\n",
       "   energy_per_vector_mJ  \n",
       "0              0.036303  "
      ]
     },
     "execution_count": 90,
     "metadata": {},
     "output_type": "execute_result"
    }
   ],
   "source": [
    "filename = \"benchmarks/transformer_benchmark_cuda.csv\"\n",
    "df = load_benchmark_df(filename)\n",
    "transformer_df = get_summary_df(df, imdb_size)\n",
    "transformer_df"
   ]
  },
  {
   "cell_type": "code",
   "execution_count": 91,
   "id": "4b471c81-a068-4f3a-aa6e-46f192cc0471",
   "metadata": {},
   "outputs": [
    {
     "data": {
      "text/html": [
       "<div>\n",
       "<style scoped>\n",
       "    .dataframe tbody tr th:only-of-type {\n",
       "        vertical-align: middle;\n",
       "    }\n",
       "\n",
       "    .dataframe tbody tr th {\n",
       "        vertical-align: top;\n",
       "    }\n",
       "\n",
       "    .dataframe thead th {\n",
       "        text-align: right;\n",
       "    }\n",
       "</style>\n",
       "<table border=\"1\" class=\"dataframe\">\n",
       "  <thead>\n",
       "    <tr style=\"text-align: right;\">\n",
       "      <th></th>\n",
       "      <th>mean_power_W</th>\n",
       "      <th>train_duration_s</th>\n",
       "      <th>epochs</th>\n",
       "      <th>params</th>\n",
       "      <th>power_per_param_mW</th>\n",
       "      <th>energy_J</th>\n",
       "      <th>iterations</th>\n",
       "      <th>energy_per_param_fJ</th>\n",
       "      <th>dataset_size</th>\n",
       "      <th>throughput</th>\n",
       "      <th>energy_per_vector_mJ</th>\n",
       "    </tr>\n",
       "  </thead>\n",
       "  <tbody>\n",
       "    <tr>\n",
       "      <th>0</th>\n",
       "      <td>19.120147</td>\n",
       "      <td>642.43</td>\n",
       "      <td>5.0</td>\n",
       "      <td>11181642.0</td>\n",
       "      <td>0.004583</td>\n",
       "      <td>12284.4951</td>\n",
       "      <td>4690.0</td>\n",
       "      <td>2.619295e+15</td>\n",
       "      <td>60000.0</td>\n",
       "      <td>93.395474</td>\n",
       "      <td>0.049091</td>\n",
       "    </tr>\n",
       "  </tbody>\n",
       "</table>\n",
       "</div>"
      ],
      "text/plain": [
       "   mean_power_W  train_duration_s  epochs      params  power_per_param_mW  \\\n",
       "0     19.120147            642.43     5.0  11181642.0            0.004583   \n",
       "\n",
       "     energy_J  iterations  energy_per_param_fJ  dataset_size  throughput  \\\n",
       "0  12284.4951      4690.0         2.619295e+15       60000.0   93.395474   \n",
       "\n",
       "   energy_per_vector_mJ  \n",
       "0              0.049091  "
      ]
     },
     "execution_count": 91,
     "metadata": {},
     "output_type": "execute_result"
    }
   ],
   "source": [
    "filename = \"benchmarks/resnet18_benchmark_cuda.csv\"\n",
    "df = load_benchmark_df(filename)\n",
    "resnet18_df = get_summary_df(df, mnist_size)\n",
    "resnet18_df"
   ]
  },
  {
   "cell_type": "code",
   "execution_count": 96,
   "id": "f0ee024f-d67c-4e49-9539-86bd703169fb",
   "metadata": {},
   "outputs": [],
   "source": [
    "lstm_df.to_excel(\"lstm_4060.xlsx\", index=False)\n",
    "transformer_df.to_excel(\"transformer_4060.xlsx\", index=False)\n",
    "resnet18_df.to_excel(\"resnet18_4060.xlsx\", index=False)"
   ]
  },
  {
   "cell_type": "code",
   "execution_count": 97,
   "id": "f637eb35-a2f9-4ce8-9db9-fcdec2b52b7c",
   "metadata": {},
   "outputs": [
    {
     "data": {
      "text/plain": [
       "0    0.000823\n",
       "dtype: float64"
      ]
     },
     "execution_count": 97,
     "metadata": {},
     "output_type": "execute_result"
    }
   ],
   "source": [
    "lstm_df[\"energy_J\"] / lstm_df[\"params\"]"
   ]
  },
  {
   "cell_type": "code",
   "execution_count": null,
   "id": "bb536d1b-65a0-498f-b834-36ec539db497",
   "metadata": {},
   "outputs": [],
   "source": []
  }
 ],
 "metadata": {
  "kernelspec": {
   "display_name": "Python 3 (ipykernel)",
   "language": "python",
   "name": "python3"
  },
  "language_info": {
   "codemirror_mode": {
    "name": "ipython",
    "version": 3
   },
   "file_extension": ".py",
   "mimetype": "text/x-python",
   "name": "python",
   "nbconvert_exporter": "python",
   "pygments_lexer": "ipython3",
   "version": "3.12.11"
  }
 },
 "nbformat": 4,
 "nbformat_minor": 5
}
